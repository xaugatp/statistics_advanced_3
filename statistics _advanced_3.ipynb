{
 "cells": [
  {
   "cell_type": "code",
   "execution_count": 1,
   "metadata": {},
   "outputs": [],
   "source": [
    "#Q1: What is Estimation Statistics? Explain point estimate and interval estimate."
   ]
  },
  {
   "cell_type": "markdown",
   "metadata": {},
   "source": []
  },
  {
   "cell_type": "markdown",
   "metadata": {},
   "source": [
    "Estimate Statistics is an observed numeric value used to estimate an unknown population parameter. \n",
    "There are two main types of estimate: point estimate and interval estimates.\n",
    "i) Point Estimate: \n",
    "-> A point estimate is a single numerical value used to estimate the unknown  population parameter. \n",
    "-> For example: If you want to estimate the average height of a population based on a sample, the sample mean would be a point estimate of the population data. \n",
    "ii) Interval Estimate: \n",
    "-> An interval estimate is an range of values that is used to estimate the unknown population parameter. Interval estimate of population parameters are called confidence interval.\n"
   ]
  },
  {
   "cell_type": "markdown",
   "metadata": {},
   "source": [
    "Q2. Write a Python function to estimate the population mean using a sample mean and standard\n",
    "deviation."
   ]
  },
  {
   "cell_type": "code",
   "execution_count": 2,
   "metadata": {},
   "outputs": [],
   "source": [
    "import scipy.stats as stats\n",
    "import math\n",
    "\n",
    "def estimate_population_mean(s_mean,s_std,s_size,confidence_level):\n",
    "    ''' \n",
    "    Estimate a population mean using sample mean and standard deviation\n",
    "    parameters: \n",
    "    -> s_mean: mean of sample\n",
    "    -> s_std:standard deviation of the sample\n",
    "    -> s_size: size of the sample\n",
    "    -> confidence_level: confidence level for the interval \n",
    "    \n",
    "    results: \n",
    "    confidence_interval : tuple representing the confidence interval for the\n",
    "    population \n",
    "    \n",
    "    \n",
    "    '''\n",
    "    standard_error = s_std/math.sqrt(s_size)\n",
    "    margine_of_error = stats.norm.ppf((1+ confidence_level)/2) +standard_error\n",
    "    \n",
    "    lower_limit = s_mean - margine_of_error\n",
    "    upper_limit = s_mean + margine_of_error\n",
    "    \n",
    "    confidence_interval = (lower_limit, upper_limit)\n",
    "    return confidence_interval"
   ]
  },
  {
   "cell_type": "code",
   "execution_count": 3,
   "metadata": {},
   "outputs": [],
   "source": [
    "#Q3: What is Hypothesis testing? Why is it used?\n",
    "# State the importance of Hypothesis testing."
   ]
  },
  {
   "cell_type": "markdown",
   "metadata": {},
   "source": [
    "Hypothesis Testing is a statistical methods used to make inferences about population parameters based on a sample data. It involves formulating two competing hypothesis, the null hypothesis (Ho) and the alternative hypothesis (H1) and using statistical techniques to determine whhich hypothesis is more likely given the observed data. \n",
    "\n",
    "Importance of Hypothesis testing:\n",
    "i) Scientific Rigor: \n",
    "-> Hypothesis testing provides a structured and rigorous framework for making decisions based on empirical evidence. It ensures that the conclusions are drawn in systematic and unbiased manner.\n",
    "ii) Informed-Decision making: \n",
    "-> Hypothesis Testing is crucial for making decision-making in various fields. It helps researchers scientists, and decision-makers make informed choices about treatments, policies, or strategies. \n",
    "iii) Statistical Inference:\n",
    "-> It allows researchers to make inferences about populatioon parameters based on a sample of data. This is essential when studying large population is impratical.\n",
    "iv) Quality Conterol:\n",
    "-> Industries use hypothesis testing for quality control purposes.  It helps ensure that processes meet specified standards and tolerences. "
   ]
  },
  {
   "cell_type": "markdown",
   "metadata": {},
   "source": [
    "Q.4) Create a hypothesis that states whether the average weight of male college students is greater than\n",
    "the average weight of female college students."
   ]
  },
  {
   "cell_type": "markdown",
   "metadata": {},
   "source": [
    "Null Hypothesis(Ho) = Mean(male) <= Mean(female)\n",
    "Alternate Hypothesis(H1) =  Mean(male) >  Mean(female)"
   ]
  },
  {
   "cell_type": "markdown",
   "metadata": {},
   "source": [
    "Q5. Write a Python script to conduct a hypothesis test on the difference between two population means,\n",
    "given a sample from each population."
   ]
  },
  {
   "cell_type": "code",
   "execution_count": 3,
   "metadata": {},
   "outputs": [
    {
     "ename": "NameError",
     "evalue": "name 'sample_A' is not defined",
     "output_type": "error",
     "traceback": [
      "\u001b[1;31m---------------------------------------------------------------------------\u001b[0m",
      "\u001b[1;31mNameError\u001b[0m                                 Traceback (most recent call last)",
      "Cell \u001b[1;32mIn[3], line 6\u001b[0m\n\u001b[0;32m      2\u001b[0m \u001b[38;5;28;01mimport\u001b[39;00m \u001b[38;5;21;01mscipy\u001b[39;00m\u001b[38;5;21;01m.\u001b[39;00m\u001b[38;5;21;01mstats\u001b[39;00m \u001b[38;5;28;01mas\u001b[39;00m \u001b[38;5;21;01mstats\u001b[39;00m\n\u001b[0;32m      5\u001b[0m \u001b[38;5;66;03m# conduct t test for independent samples \u001b[39;00m\n\u001b[1;32m----> 6\u001b[0m t_stat, p_value \u001b[38;5;241m=\u001b[39m stats\u001b[38;5;241m.\u001b[39mttest_ind(\u001b[43msample_A\u001b[49m, sample_B, equal_var\u001b[38;5;241m=\u001b[39m\u001b[38;5;28;01mFalse\u001b[39;00m)\\\n\u001b[0;32m      8\u001b[0m \u001b[38;5;66;03m# print results\u001b[39;00m\n\u001b[0;32m      9\u001b[0m \u001b[38;5;28mprint\u001b[39m(\u001b[38;5;124m\"\u001b[39m\u001b[38;5;124mt_statistics:\u001b[39m\u001b[38;5;124m\"\u001b[39m, t_stat)\n",
      "\u001b[1;31mNameError\u001b[0m: name 'sample_A' is not defined"
     ]
    }
   ],
   "source": [
    "#import scipy.stats module \n",
    "import scipy.stats as stats\n",
    "\n",
    "\n",
    "# conduct t test for independent samples \n",
    "t_stat, p_value = stats.ttest_ind(sample_A, sample_B, equal_var=False)\\\n",
    "\n",
    "# print results\n",
    "print(\"t_statistics:\", t_stat)\n",
    "print(\"p_value:\", p_value)\n",
    "\n"
   ]
  },
  {
   "cell_type": "code",
   "execution_count": 4,
   "metadata": {},
   "outputs": [],
   "source": [
    "#Q6: What is a null and alternative hypothesis? Give some examples.\n"
   ]
  },
  {
   "cell_type": "markdown",
   "metadata": {},
   "source": [
    "Null Hypothesis(Ho): \n",
    "-> The null hypothesis is a statement suggesting no effect, no diffrence or no relationship. It is default assumption or the status quo. Reseachers typically start with the null hypothesis.\n",
    "Alternate Hypothesis(H1):\n",
    "-> The alternate hypothesis is a statement that contradicts the null hypothesis. It represents the researchers claim, suggesting that there is a significant effect, diffrence, or relationship in the population. \n",
    "\n",
    "\n",
    "Examples:\n",
    "1) Example in medicine:\n",
    " * Null Hypothesis: The new drugs has no impact on patient's recovery time.\n",
    "  * Alternate Hypothesis(H1): The new drug reduces patient's recovery time.\n",
    "\n",
    "2) Example in physchology:\n",
    " * Nul Hypothesis: There is no correlation between hours of sleep an test performance.\n",
    " * Alternate Hypothesis: More hours of sleep are associated with better test performance. \n",
    "\n",
    " "
   ]
  },
  {
   "cell_type": "markdown",
   "metadata": {},
   "source": [
    "Q7: Write down the steps involved in hypothesis testing."
   ]
  },
  {
   "cell_type": "markdown",
   "metadata": {},
   "source": [
    "Hypothesis testing involves a series of steps to make statistical inferences about a population based on a sample of data. Here are the general steps involved in hypothesis testing:\n",
    "\n",
    "1. **Formulate Hypotheses:**\n",
    "   - **Null Hypothesis (Ho):** Represents the default assumption of no effect, no difference, or no relationship.\n",
    "   - **Alternative Hypothesis (H1):** Represents the assertion of a significant effect, difference, or relationship.\n",
    "\n",
    "2. **Choose Significance Level (\\(\\alpha\\)):**\n",
    "   - Decide on the significance level, denoted by \\(\\alpha\\), which is the probability of rejecting the null hypothesis when it is true. Common choices include 0.05, 0.01, or 0.10.\n",
    "\n",
    "3. **Select the Appropriate Test Statistic:**\n",
    "   - Choose a statistical test based on the nature of the data and the hypotheses. Common tests include t-tests, z-tests, chi-square tests, and ANOVA, depending on the context.\n",
    "\n",
    "4. **Collect and Analyze Data:**\n",
    "   - Collect data from a sample and perform the chosen statistical test. Calculate the test statistic using the sample data.\n",
    "\n",
    "5. **Determine the Critical Region:**\n",
    "   - Establish the critical region, which consists of the values of the test statistic that lead to the rejection of the null hypothesis. This is determined based on the chosen significance level and the distribution of the test statistic.\n",
    "\n",
    "6. **Calculate the Test Statistic:**\n",
    "   - Calculate the test statistic using the sample data and the chosen statistical test. This involves comparing the observed data to what would be expected under the assumption of the null hypothesis.\n",
    "\n",
    "7. **Make a Decision:**\n",
    "   - Compare the calculated test statistic to the critical value or p-value. If the test statistic falls into the critical region or the p-value is less than the significance level, reject the null hypothesis. Otherwise, fail to reject the null hypothesis.\n",
    "\n",
    "8. **Draw Conclusions:**\n",
    "   - Based on the decision in step 7, draw conclusions about the population parameter. If the null hypothesis is rejected, it suggests evidence in favor of the alternative hypothesis.\n",
    "\n",
    "9. **Consider Practical Significance:**\n",
    "   - Evaluate the practical significance of the findings. Even if a result is statistically significant, it is essential to assess whether the observed effect is practically meaningful.\n",
    "\n",
    "10. **Report Results:**\n",
    "    - Clearly communicate the results, including the test statistic, p-value, and any other relevant information. State whether the null hypothesis is rejected or not.\n",
    "\n",
    "These steps provide a systematic framework for conducting hypothesis testing and making informed statistical inferences about a population based on sample data."
   ]
  },
  {
   "cell_type": "markdown",
   "metadata": {},
   "source": [
    "Q8. Define p-value and explain its significance in hypothesis testing."
   ]
  },
  {
   "cell_type": "markdown",
   "metadata": {},
   "source": [
    "**P-value Definition:**\n",
    "The p-value, or probability value, is a measure that helps assess the evidence against a null hypothesis in hypothesis testing. It quantifies the probability of obtaining test results as extreme as, or more extreme than, the observed results, under the assumption that the null hypothesis is true. In other words, it indicates how likely it is to observe the data if the null hypothesis is correct.\n",
    "\n",
    "**Significance in Hypothesis Testing:**\n",
    "The significance of the p-value lies in its role in decision-making during hypothesis testing. Here's how to interpret p-values:\n",
    "\n",
    "1. **Small P-value:**\n",
    "   - If the calculated p-value is very small (typically less than or equal to the chosen significance level \\(\\alpha\\)), it suggests that the observed data is unlikely to have occurred by random chance alone under the null hypothesis.\n",
    "   - Consequence: Reject the null hypothesis. The smaller the p-value, the stronger the evidence against the null hypothesis.\n",
    "\n",
    "2. **Large P-value:**\n",
    "   - If the calculated p-value is large, it suggests that the observed data is reasonably likely to occur by random chance under the null hypothesis.\n",
    "   - Consequence: Fail to reject the null hypothesis. The data does not provide sufficient evidence to reject the null hypothesis.\n",
    "\n",
    "3. **Significance Level (\\(\\alpha\\)):**\n",
    "   - The significance level, often denoted as \\(\\alpha\\), is predetermined by the researcher and represents the threshold for deciding whether to reject the null hypothesis.\n",
    "   - Commonly used values for \\(\\alpha\\) are 0.05, 0.01, or 0.10.\n",
    "\n",
    "4. **Decision Rule:**\n",
    "   - If the p-value is less than or equal to \\(\\alpha\\), reject the null hypothesis.\n",
    "   - If the p-value is greater than \\(\\alpha\\), fail to reject the null hypothesis.\n",
    "\n",
    "5. **Conclusion:**\n",
    "   - The decision based on the p-value contributes to the overall conclusion of the hypothesis test. It indicates whether there is sufficient evidence to support the alternative hypothesis.\n",
    "\n",
    "It's crucial to note that a small p-value does not prove that the alternative hypothesis is true or that there is a practically significant effect. It only provides evidence against the null hypothesis, prompting further investigation and consideration of the practical importance of the results."
   ]
  },
  {
   "cell_type": "markdown",
   "metadata": {},
   "source": [
    "Q9. Generate a Student's t-distribution plot using Python's matplotlib library, with the degrees of freedom\n",
    "parameter set to 10."
   ]
  },
  {
   "cell_type": "code",
   "execution_count": 10,
   "metadata": {},
   "outputs": [
    {
     "data": {
      "image/png": "[encoded data removed]",
      "text/plain": [
       "<Figure size 640x480 with 1 Axes>"
      ]
     },
     "metadata": {},
     "output_type": "display_data"
    }
   ],
   "source": [
    "import matplotlib.pyplot as plt \n",
    "import scipy.stats as stats\n",
    "from scipy.stats  import t \n",
    "\n",
    "\n",
    "#generate t distribution with sample size 10000\n",
    "x = t.rvs(df=10, size=10000)\n",
    "\n",
    "#create plot of t distribution\n",
    "plt.hist(x, density=True, edgecolor='black', bins=20)\n",
    "plt.show()"
   ]
  },
  {
   "cell_type": "markdown",
   "metadata": {},
   "source": [
    "Q10. Write a Python program to calculate the two-sample t-test for independent samples, given two\n",
    "random samples of equal size and a null hypothesis that the population means are equal."
   ]
  },
  {
   "cell_type": "code",
   "execution_count": 11,
   "metadata": {},
   "outputs": [],
   "source": [
    "import numpy as np \n",
    "from scipy.stats import ttest_ind\n",
    "\n",
    "\n",
    "def two_sample_t_test(sample1, sample2):\n",
    "    #Perform two-sample t-test\n",
    "    t_statistics, p_value = ttest_ind(sample1,sample2)\n",
    "    \n",
    "    #Display the results\n",
    "    print(f\"T-Statistics: {t_statistics}\")\n",
    "    print(f\"P-Value: {p_value}\")\n",
    "    \n",
    "    #Interpret the results\n",
    "    alpha = 0.5 \n",
    "    if p_value < alpha:\n",
    "        print(\"Reject the null hypothesis. There is enough evidence to suggest that the population means are not equal.\")\n",
    "    else:\n",
    "        print(\"Fail to reject the null hypothesis. There is not enough evidence to suggest that the population means are different.\")\n"
   ]
  },
  {
   "cell_type": "markdown",
   "metadata": {},
   "source": [
    "Q11: What is Student’s t distribution? When to use the t-Distribution."
   ]
  },
  {
   "cell_type": "markdown",
   "metadata": {},
   "source": [
    "The Student's t-distribution, commonly referred to as the t-distribution, is a probability distribution that is used in statistical hypothesis testin\n",
    "\n",
    "\n",
    "\n",
    "When to Use the t-Distribution:\n",
    "\n",
    "The t-distribution is commonly used in scenarios where the population standard deviation is unknown, and sample sizes are small. In such cases, it is inappropriate to use the standard normal distribution (Z-distribution) because the standard normal distribution assumes knowledge of the population standard deviation.\n",
    "\n",
    "Key situations where the t-distribution is relevant include:\n",
    "\n",
    "Small Sample Sizes: When dealing with small sample sizes (typically n < 30), the t-distribution is more appropriate for making inferences about the population mean.\n",
    "\n",
    "Unknown Population Standard Deviation: If the population standard deviation is unknown and must be estimated from the sample data, the t-distribution is used.\n",
    "\n",
    "One-Sample t-Test: When comparing the mean of a sample to a known or hypothesized population mean.\n",
    "\n",
    "Two-Sample t-Test: When comparing the means of two independent groups.\n",
    "\n",
    "Confidence Intervals: When constructing confidence intervals for the population mean.\n",
    "\n",
    "Regression Analysis: In some cases, especially in linear regression, the t-distribution is used for testing the significance of regression coefficients."
   ]
  },
  {
   "cell_type": "markdown",
   "metadata": {},
   "source": [
    "Q12: What is t-statistic? State the formula for t-statistic."
   ]
  },
  {
   "cell_type": "markdown",
   "metadata": {},
   "source": [
    "The t-statistic is a measure used in statistical hypothesis testing to assess the evidence against a null hypothesis. It is particularly associated with Student's t-distribution and is commonly used when dealing with small sample sizes or when the population standard deviation is unknown.\n",
    "\n",
    "The formula for the t-statistic depends on the context of its application, but the general formula for a one-sample t-test is as follows:\n",
    "\n",
    "t = sample mean - population mean/ sample std /(sample size )^1/2\n"
   ]
  },
  {
   "cell_type": "markdown",
   "metadata": {},
   "source": [
    "Q13. A coffee shop owner wants to estimate the average daily revenue for their shop. They take a random\n",
    "sample of 50 days and find the sample mean revenue to be $500 with a standard deviation of $50.\n",
    "Estimate the population mean revenue with a 95% confidence interval."
   ]
  },
  {
   "cell_type": "code",
   "execution_count": 12,
   "metadata": {},
   "outputs": [
    {
     "name": "stdout",
     "output_type": "stream",
     "text": [
      "Critical Value (Z): 1.96\n",
      "Margin of Error: 13.86\n",
      "Confidence Interval: ($486.14, $486.14)\n"
     ]
    }
   ],
   "source": [
    "import scipy.stats as stats\n",
    "import math\n",
    "\n",
    "sample_mean = 500\n",
    "sample_size = 50\n",
    "sample_std = 50 \n",
    "conficence_level = 0.95 \n",
    "critical_value = stats.norm.ppf((1 + conficence_level)/2)\n",
    "margin_of_error = critical_value * (sample_std/math.sqrt(sample_size))\n",
    "\n",
    "lower_limit = sample_mean - margin_of_error\n",
    "upper_limit = sample_mean - margin_of_error\n",
    "\n",
    "print(f\"Critical Value (Z): {critical_value:.2f}\")\n",
    "print(f\"Margin of Error: {margin_of_error:.2f}\")\n",
    "print(f\"Confidence Interval: (${lower_limit:.2f}, ${upper_limit:.2f})\")\n"
   ]
  },
  {
   "cell_type": "markdown",
   "metadata": {},
   "source": [
    "Q14. A researcher hypothesizes that a new drug will decrease blood pressure by 10 mmHg. They conduct a\n",
    "clinical trial with 100 patients and find that the sample mean decrease in blood pressure is 8 mmHg with a\n",
    "standard deviation of 3 mmHg. Test the hypothesis with a significance level of 0.05."
   ]
  },
  {
   "cell_type": "code",
   "execution_count": 16,
   "metadata": {},
   "outputs": [
    {
     "name": "stdout",
     "output_type": "stream",
     "text": [
      "Reject the null hypothesis\n"
     ]
    }
   ],
   "source": [
    "\n",
    "import scipy.stats\n",
    "\n",
    "null_hypothesis = 10\n",
    "s_size = 100 \n",
    "s_mean = 8 \n",
    "s_std = 3\n",
    "confidence_level = 0.95\n",
    "dof = 99 \n",
    "alpha = 0.05 \n",
    "\n",
    "t_statistics = (s_mean-null_hypothesis)/(s_std / (math.sqrt(s_size)))\n",
    "\n",
    "critical_t_value = scipy.stats.t.ppf(1-alpha/2, dof)\n",
    "\n",
    "if abs(t_statistics) > critical_t_value:\n",
    "    print(\"Reject the null hypothesis\")\n",
    "else: \n",
    "    print(\"Fail to reject the null hypothesis\")\n"
   ]
  },
  {
   "cell_type": "markdown",
   "metadata": {},
   "source": [
    "Q15. An electronics company produces a certain type of product with a mean weight of 5 pounds and a\n",
    "standard deviation of 0.5 pounds. A random sample of 25 products is taken, and the sample mean weight\n",
    "is found to be 4.8 pounds. Test the hypothesis that the true mean weight of the products is less than 5\n",
    "pounds with a significance level of 0.01."
   ]
  },
  {
   "cell_type": "code",
   "execution_count": 19,
   "metadata": {},
   "outputs": [
    {
     "name": "stdout",
     "output_type": "stream",
     "text": [
      "We fail to reject the null hypothesis\n"
     ]
    }
   ],
   "source": [
    "import scipy.stats\n",
    "\n",
    "population_mean = 5\n",
    "sample_mean = 4.8\n",
    "sample_size = 25\n",
    "population_std_dev =0.5 \n",
    "alpha = 0.01\n",
    "\n",
    "z_statistics = (sample_mean-population_mean)/(population_std_dev/(sample_size**0.5))\n",
    "\n",
    "critical_z_value = scipy.stats.norm.ppf(alpha)\n",
    "\n",
    "if z_statistics < critical_z_value:\n",
    "    print(\"Reject the null hypothesis\")\n",
    "else: \n",
    "    print(\"We fail to reject the null hypothesis\")"
   ]
  },
  {
   "cell_type": "markdown",
   "metadata": {},
   "source": [
    "Q16. Two groups of students are given different study materials to prepare for a test. The first group (n1 =\n",
    "30) has a mean score of 80 with a standard deviation of 10, and the second group (n2 = 40) has a mean\n",
    "score of 75 with a standard deviation of 8. Test the hypothesis that the population means for the two\n",
    "groups are equal with a significance level of 0.01."
   ]
  },
  {
   "cell_type": "code",
   "execution_count": 20,
   "metadata": {},
   "outputs": [
    {
     "name": "stdout",
     "output_type": "stream",
     "text": [
      "Fail to reject the null hypothesis\n"
     ]
    }
   ],
   "source": [
    "import scipy.stats\n",
    "\n",
    "# Given data for Group 1\n",
    "mean1 = 80\n",
    "std_dev1 = 10\n",
    "sample_size1 = 30\n",
    "\n",
    "# Given data for Group 2\n",
    "mean2 = 75\n",
    "std_dev2 = 8\n",
    "sample_size2 = 40\n",
    "\n",
    "# Calculate the t-statistic\n",
    "t_statistic, p_value = scipy.stats.ttest_ind_from_stats(mean1, std_dev1, sample_size1, mean2, std_dev2, sample_size2)\n",
    "\n",
    "# Set the significance level\n",
    "alpha = 0.01\n",
    "\n",
    "# Compare the p-value with the significance level\n",
    "if p_value < alpha:\n",
    "    print(\"Reject the null hypothesis\")\n",
    "else:\n",
    "    print(\"Fail to reject the null hypothesis\")\n"
   ]
  },
  {
   "cell_type": "markdown",
   "metadata": {},
   "source": [
    "Q17. A marketing company wants to estimate the average number of ads watched by viewers during a TV\n",
    "program. They take a random sample of 50 viewers and find that the sample mean is 4 with a standard\n",
    "deviation of 1.5. Estimate the population mean with a 99% confidence interval."
   ]
  },
  {
   "cell_type": "code",
   "execution_count": 21,
   "metadata": {},
   "outputs": [
    {
     "name": "stdout",
     "output_type": "stream",
     "text": [
      "99% Confidence Interval: (3.45, 4.55)\n"
     ]
    }
   ],
   "source": [
    "import scipy.stats\n",
    "\n",
    "# Given data\n",
    "sample_mean = 4\n",
    "population_std_dev = 1.5\n",
    "sample_size = 50\n",
    "confidence_level = 0.99\n",
    "\n",
    "# Calculate the Z-score for the given confidence level\n",
    "z_score = scipy.stats.norm.ppf((1 + confidence_level) / 2)\n",
    "\n",
    "# Calculate the margin of error\n",
    "margin_of_error = z_score * (population_std_dev / (sample_size**0.5))\n",
    "\n",
    "# Calculate the confidence interval\n",
    "lower_bound = sample_mean - margin_of_error\n",
    "upper_bound = sample_mean + margin_of_error\n",
    "\n",
    "# Print the result\n",
    "print(f\"99% Confidence Interval: ({lower_bound:.2f}, {upper_bound:.2f})\")\n"
   ]
  },
  {
   "cell_type": "code",
   "execution_count": null,
   "metadata": {},
   "outputs": [],
   "source": []
  }
 ],
 "metadata": {
  "kernelspec": {
   "display_name": "Python 3",
   "language": "python",
   "name": "python3"
  },
  "language_info": {
   "codemirror_mode": {
    "name": "ipython",
    "version": 3
   },
   "file_extension": ".py",
   "mimetype": "text/x-python",
   "name": "python",
   "nbconvert_exporter": "python",
   "pygments_lexer": "ipython3",
   "version": "3.11.7"
  }
 },
 "nbformat": 4,
 "nbformat_minor": 2
}
